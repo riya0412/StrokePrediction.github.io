{
 "cells": [
  {
   "cell_type": "markdown",
   "id": "e61f983b",
   "metadata": {},
   "source": [
    "#                               \n",
    "#                                STROKE PREDICTION                    \n"
   ]
  },
  {
   "cell_type": "markdown",
   "id": "f8cf341b",
   "metadata": {},
   "source": [
    "##### Import necessery libraries"
   ]
  },
  {
   "cell_type": "code",
   "execution_count": 1,
   "id": "36c4fd26",
   "metadata": {},
   "outputs": [
    {
     "data": {
      "text/html": [
       "<div>\n",
       "<style scoped>\n",
       "    .dataframe tbody tr th:only-of-type {\n",
       "        vertical-align: middle;\n",
       "    }\n",
       "\n",
       "    .dataframe tbody tr th {\n",
       "        vertical-align: top;\n",
       "    }\n",
       "\n",
       "    .dataframe thead th {\n",
       "        text-align: right;\n",
       "    }\n",
       "</style>\n",
       "<table border=\"1\" class=\"dataframe\">\n",
       "  <thead>\n",
       "    <tr style=\"text-align: right;\">\n",
       "      <th></th>\n",
       "      <th>id</th>\n",
       "      <th>gender</th>\n",
       "      <th>age</th>\n",
       "      <th>hypertension</th>\n",
       "      <th>heart_disease</th>\n",
       "      <th>ever_married</th>\n",
       "      <th>work_type</th>\n",
       "      <th>Residence_type</th>\n",
       "      <th>avg_glucose_level</th>\n",
       "      <th>bmi</th>\n",
       "      <th>smoking_status</th>\n",
       "      <th>stroke</th>\n",
       "    </tr>\n",
       "  </thead>\n",
       "  <tbody>\n",
       "    <tr>\n",
       "      <th>0</th>\n",
       "      <td>67</td>\n",
       "      <td>Female</td>\n",
       "      <td>17.0</td>\n",
       "      <td>0</td>\n",
       "      <td>0</td>\n",
       "      <td>No</td>\n",
       "      <td>Private</td>\n",
       "      <td>Urban</td>\n",
       "      <td>92.97</td>\n",
       "      <td>NaN</td>\n",
       "      <td>formerly smoked</td>\n",
       "      <td>0</td>\n",
       "    </tr>\n",
       "    <tr>\n",
       "      <th>1</th>\n",
       "      <td>77</td>\n",
       "      <td>Female</td>\n",
       "      <td>13.0</td>\n",
       "      <td>0</td>\n",
       "      <td>0</td>\n",
       "      <td>No</td>\n",
       "      <td>children</td>\n",
       "      <td>Rural</td>\n",
       "      <td>85.81</td>\n",
       "      <td>18.6</td>\n",
       "      <td>Unknown</td>\n",
       "      <td>0</td>\n",
       "    </tr>\n",
       "    <tr>\n",
       "      <th>2</th>\n",
       "      <td>84</td>\n",
       "      <td>Male</td>\n",
       "      <td>55.0</td>\n",
       "      <td>0</td>\n",
       "      <td>0</td>\n",
       "      <td>Yes</td>\n",
       "      <td>Private</td>\n",
       "      <td>Urban</td>\n",
       "      <td>89.17</td>\n",
       "      <td>31.5</td>\n",
       "      <td>never smoked</td>\n",
       "      <td>0</td>\n",
       "    </tr>\n",
       "    <tr>\n",
       "      <th>3</th>\n",
       "      <td>91</td>\n",
       "      <td>Female</td>\n",
       "      <td>42.0</td>\n",
       "      <td>0</td>\n",
       "      <td>0</td>\n",
       "      <td>No</td>\n",
       "      <td>Private</td>\n",
       "      <td>Urban</td>\n",
       "      <td>98.53</td>\n",
       "      <td>18.5</td>\n",
       "      <td>never smoked</td>\n",
       "      <td>0</td>\n",
       "    </tr>\n",
       "    <tr>\n",
       "      <th>4</th>\n",
       "      <td>99</td>\n",
       "      <td>Female</td>\n",
       "      <td>31.0</td>\n",
       "      <td>0</td>\n",
       "      <td>0</td>\n",
       "      <td>No</td>\n",
       "      <td>Private</td>\n",
       "      <td>Urban</td>\n",
       "      <td>108.89</td>\n",
       "      <td>52.3</td>\n",
       "      <td>Unknown</td>\n",
       "      <td>0</td>\n",
       "    </tr>\n",
       "    <tr>\n",
       "      <th>5</th>\n",
       "      <td>121</td>\n",
       "      <td>Female</td>\n",
       "      <td>38.0</td>\n",
       "      <td>0</td>\n",
       "      <td>0</td>\n",
       "      <td>Yes</td>\n",
       "      <td>Private</td>\n",
       "      <td>Urban</td>\n",
       "      <td>91.44</td>\n",
       "      <td>NaN</td>\n",
       "      <td>Unknown</td>\n",
       "      <td>0</td>\n",
       "    </tr>\n",
       "    <tr>\n",
       "      <th>6</th>\n",
       "      <td>129</td>\n",
       "      <td>Female</td>\n",
       "      <td>24.0</td>\n",
       "      <td>0</td>\n",
       "      <td>0</td>\n",
       "      <td>No</td>\n",
       "      <td>Private</td>\n",
       "      <td>Urban</td>\n",
       "      <td>97.55</td>\n",
       "      <td>26.2</td>\n",
       "      <td>never smoked</td>\n",
       "      <td>0</td>\n",
       "    </tr>\n",
       "    <tr>\n",
       "      <th>7</th>\n",
       "      <td>132</td>\n",
       "      <td>Female</td>\n",
       "      <td>80.0</td>\n",
       "      <td>0</td>\n",
       "      <td>0</td>\n",
       "      <td>Yes</td>\n",
       "      <td>Govt_job</td>\n",
       "      <td>Urban</td>\n",
       "      <td>84.86</td>\n",
       "      <td>NaN</td>\n",
       "      <td>Unknown</td>\n",
       "      <td>0</td>\n",
       "    </tr>\n",
       "    <tr>\n",
       "      <th>8</th>\n",
       "      <td>156</td>\n",
       "      <td>Female</td>\n",
       "      <td>33.0</td>\n",
       "      <td>0</td>\n",
       "      <td>0</td>\n",
       "      <td>Yes</td>\n",
       "      <td>Private</td>\n",
       "      <td>Rural</td>\n",
       "      <td>86.97</td>\n",
       "      <td>42.2</td>\n",
       "      <td>never smoked</td>\n",
       "      <td>0</td>\n",
       "    </tr>\n",
       "    <tr>\n",
       "      <th>9</th>\n",
       "      <td>163</td>\n",
       "      <td>Female</td>\n",
       "      <td>20.0</td>\n",
       "      <td>0</td>\n",
       "      <td>0</td>\n",
       "      <td>No</td>\n",
       "      <td>Private</td>\n",
       "      <td>Rural</td>\n",
       "      <td>94.67</td>\n",
       "      <td>28.8</td>\n",
       "      <td>Unknown</td>\n",
       "      <td>0</td>\n",
       "    </tr>\n",
       "  </tbody>\n",
       "</table>\n",
       "</div>"
      ],
      "text/plain": [
       "    id  gender   age  hypertension  heart_disease ever_married work_type  \\\n",
       "0   67  Female  17.0             0              0           No   Private   \n",
       "1   77  Female  13.0             0              0           No  children   \n",
       "2   84    Male  55.0             0              0          Yes   Private   \n",
       "3   91  Female  42.0             0              0           No   Private   \n",
       "4   99  Female  31.0             0              0           No   Private   \n",
       "5  121  Female  38.0             0              0          Yes   Private   \n",
       "6  129  Female  24.0             0              0           No   Private   \n",
       "7  132  Female  80.0             0              0          Yes  Govt_job   \n",
       "8  156  Female  33.0             0              0          Yes   Private   \n",
       "9  163  Female  20.0             0              0           No   Private   \n",
       "\n",
       "  Residence_type  avg_glucose_level   bmi   smoking_status  stroke  \n",
       "0          Urban              92.97   NaN  formerly smoked       0  \n",
       "1          Rural              85.81  18.6          Unknown       0  \n",
       "2          Urban              89.17  31.5     never smoked       0  \n",
       "3          Urban              98.53  18.5     never smoked       0  \n",
       "4          Urban             108.89  52.3          Unknown       0  \n",
       "5          Urban              91.44   NaN          Unknown       0  \n",
       "6          Urban              97.55  26.2     never smoked       0  \n",
       "7          Urban              84.86   NaN          Unknown       0  \n",
       "8          Rural              86.97  42.2     never smoked       0  \n",
       "9          Rural              94.67  28.8          Unknown       0  "
      ]
     },
     "execution_count": 1,
     "metadata": {},
     "output_type": "execute_result"
    }
   ],
   "source": [
    "import pandas as pd\n",
    "import numpy as np\n",
    "import matplotlib.pyplot as plt\n",
    "\n",
    "data=pd.read_csv(\"healthcare-dataset-stroke-data.csv\")\n",
    "\n",
    "data.head(10)"
   ]
  },
  {
   "cell_type": "markdown",
   "id": "ee50d709",
   "metadata": {},
   "source": [
    "# Data mining and Data preprocessing"
   ]
  },
  {
   "cell_type": "code",
   "execution_count": 2,
   "id": "8f258b32",
   "metadata": {},
   "outputs": [
    {
     "data": {
      "text/html": [
       "<div>\n",
       "<style scoped>\n",
       "    .dataframe tbody tr th:only-of-type {\n",
       "        vertical-align: middle;\n",
       "    }\n",
       "\n",
       "    .dataframe tbody tr th {\n",
       "        vertical-align: top;\n",
       "    }\n",
       "\n",
       "    .dataframe thead th {\n",
       "        text-align: right;\n",
       "    }\n",
       "</style>\n",
       "<table border=\"1\" class=\"dataframe\">\n",
       "  <thead>\n",
       "    <tr style=\"text-align: right;\">\n",
       "      <th></th>\n",
       "      <th>id</th>\n",
       "      <th>age</th>\n",
       "      <th>hypertension</th>\n",
       "      <th>heart_disease</th>\n",
       "      <th>avg_glucose_level</th>\n",
       "      <th>bmi</th>\n",
       "      <th>stroke</th>\n",
       "    </tr>\n",
       "  </thead>\n",
       "  <tbody>\n",
       "    <tr>\n",
       "      <th>count</th>\n",
       "      <td>5110.000000</td>\n",
       "      <td>5110.000000</td>\n",
       "      <td>5110.000000</td>\n",
       "      <td>5110.000000</td>\n",
       "      <td>5110.000000</td>\n",
       "      <td>4909.000000</td>\n",
       "      <td>5110.000000</td>\n",
       "    </tr>\n",
       "    <tr>\n",
       "      <th>mean</th>\n",
       "      <td>36517.829354</td>\n",
       "      <td>43.226614</td>\n",
       "      <td>0.097456</td>\n",
       "      <td>0.054012</td>\n",
       "      <td>106.147677</td>\n",
       "      <td>28.893237</td>\n",
       "      <td>0.048728</td>\n",
       "    </tr>\n",
       "    <tr>\n",
       "      <th>std</th>\n",
       "      <td>21161.721625</td>\n",
       "      <td>22.612647</td>\n",
       "      <td>0.296607</td>\n",
       "      <td>0.226063</td>\n",
       "      <td>45.283560</td>\n",
       "      <td>7.854067</td>\n",
       "      <td>0.215320</td>\n",
       "    </tr>\n",
       "    <tr>\n",
       "      <th>min</th>\n",
       "      <td>67.000000</td>\n",
       "      <td>0.080000</td>\n",
       "      <td>0.000000</td>\n",
       "      <td>0.000000</td>\n",
       "      <td>55.120000</td>\n",
       "      <td>10.300000</td>\n",
       "      <td>0.000000</td>\n",
       "    </tr>\n",
       "    <tr>\n",
       "      <th>25%</th>\n",
       "      <td>17741.250000</td>\n",
       "      <td>25.000000</td>\n",
       "      <td>0.000000</td>\n",
       "      <td>0.000000</td>\n",
       "      <td>77.245000</td>\n",
       "      <td>23.500000</td>\n",
       "      <td>0.000000</td>\n",
       "    </tr>\n",
       "    <tr>\n",
       "      <th>50%</th>\n",
       "      <td>36932.000000</td>\n",
       "      <td>45.000000</td>\n",
       "      <td>0.000000</td>\n",
       "      <td>0.000000</td>\n",
       "      <td>91.885000</td>\n",
       "      <td>28.100000</td>\n",
       "      <td>0.000000</td>\n",
       "    </tr>\n",
       "    <tr>\n",
       "      <th>75%</th>\n",
       "      <td>54682.000000</td>\n",
       "      <td>61.000000</td>\n",
       "      <td>0.000000</td>\n",
       "      <td>0.000000</td>\n",
       "      <td>114.090000</td>\n",
       "      <td>33.100000</td>\n",
       "      <td>0.000000</td>\n",
       "    </tr>\n",
       "    <tr>\n",
       "      <th>max</th>\n",
       "      <td>72940.000000</td>\n",
       "      <td>82.000000</td>\n",
       "      <td>1.000000</td>\n",
       "      <td>1.000000</td>\n",
       "      <td>271.740000</td>\n",
       "      <td>97.600000</td>\n",
       "      <td>1.000000</td>\n",
       "    </tr>\n",
       "  </tbody>\n",
       "</table>\n",
       "</div>"
      ],
      "text/plain": [
       "                 id          age  hypertension  heart_disease  \\\n",
       "count   5110.000000  5110.000000   5110.000000    5110.000000   \n",
       "mean   36517.829354    43.226614      0.097456       0.054012   \n",
       "std    21161.721625    22.612647      0.296607       0.226063   \n",
       "min       67.000000     0.080000      0.000000       0.000000   \n",
       "25%    17741.250000    25.000000      0.000000       0.000000   \n",
       "50%    36932.000000    45.000000      0.000000       0.000000   \n",
       "75%    54682.000000    61.000000      0.000000       0.000000   \n",
       "max    72940.000000    82.000000      1.000000       1.000000   \n",
       "\n",
       "       avg_glucose_level          bmi       stroke  \n",
       "count        5110.000000  4909.000000  5110.000000  \n",
       "mean          106.147677    28.893237     0.048728  \n",
       "std            45.283560     7.854067     0.215320  \n",
       "min            55.120000    10.300000     0.000000  \n",
       "25%            77.245000    23.500000     0.000000  \n",
       "50%            91.885000    28.100000     0.000000  \n",
       "75%           114.090000    33.100000     0.000000  \n",
       "max           271.740000    97.600000     1.000000  "
      ]
     },
     "execution_count": 2,
     "metadata": {},
     "output_type": "execute_result"
    }
   ],
   "source": [
    "data.describe()"
   ]
  },
  {
   "cell_type": "code",
   "execution_count": 3,
   "id": "dcae8fa3",
   "metadata": {
    "scrolled": false
   },
   "outputs": [
    {
     "name": "stdout",
     "output_type": "stream",
     "text": [
      "<class 'pandas.core.frame.DataFrame'>\n",
      "RangeIndex: 5110 entries, 0 to 5109\n",
      "Data columns (total 12 columns):\n",
      " #   Column             Non-Null Count  Dtype  \n",
      "---  ------             --------------  -----  \n",
      " 0   id                 5110 non-null   int64  \n",
      " 1   gender             5110 non-null   object \n",
      " 2   age                5110 non-null   float64\n",
      " 3   hypertension       5110 non-null   int64  \n",
      " 4   heart_disease      5110 non-null   int64  \n",
      " 5   ever_married       5110 non-null   object \n",
      " 6   work_type          5110 non-null   object \n",
      " 7   Residence_type     5110 non-null   object \n",
      " 8   avg_glucose_level  5110 non-null   float64\n",
      " 9   bmi                4909 non-null   float64\n",
      " 10  smoking_status     5110 non-null   object \n",
      " 11  stroke             5110 non-null   int64  \n",
      "dtypes: float64(3), int64(4), object(5)\n",
      "memory usage: 479.2+ KB\n"
     ]
    }
   ],
   "source": [
    "data.info()"
   ]
  },
  {
   "cell_type": "code",
   "execution_count": 25,
   "id": "21fab8aa",
   "metadata": {},
   "outputs": [
    {
     "data": {
      "text/html": [
       "<div>\n",
       "<style scoped>\n",
       "    .dataframe tbody tr th:only-of-type {\n",
       "        vertical-align: middle;\n",
       "    }\n",
       "\n",
       "    .dataframe tbody tr th {\n",
       "        vertical-align: top;\n",
       "    }\n",
       "\n",
       "    .dataframe thead th {\n",
       "        text-align: right;\n",
       "    }\n",
       "</style>\n",
       "<table border=\"1\" class=\"dataframe\">\n",
       "  <thead>\n",
       "    <tr style=\"text-align: right;\">\n",
       "      <th></th>\n",
       "      <th>gender</th>\n",
       "      <th>age</th>\n",
       "      <th>hypertension</th>\n",
       "      <th>heart_disease</th>\n",
       "      <th>ever_married</th>\n",
       "      <th>work_type</th>\n",
       "      <th>Residence_type</th>\n",
       "      <th>avg_glucose_level</th>\n",
       "      <th>bmi</th>\n",
       "      <th>smoking_status</th>\n",
       "    </tr>\n",
       "  </thead>\n",
       "  <tbody>\n",
       "    <tr>\n",
       "      <th>0</th>\n",
       "      <td>Female</td>\n",
       "      <td>17.0</td>\n",
       "      <td>0</td>\n",
       "      <td>0</td>\n",
       "      <td>No</td>\n",
       "      <td>Private</td>\n",
       "      <td>Urban</td>\n",
       "      <td>92.97</td>\n",
       "      <td>NaN</td>\n",
       "      <td>formerly smoked</td>\n",
       "    </tr>\n",
       "    <tr>\n",
       "      <th>1</th>\n",
       "      <td>Female</td>\n",
       "      <td>13.0</td>\n",
       "      <td>0</td>\n",
       "      <td>0</td>\n",
       "      <td>No</td>\n",
       "      <td>children</td>\n",
       "      <td>Rural</td>\n",
       "      <td>85.81</td>\n",
       "      <td>18.6</td>\n",
       "      <td>Unknown</td>\n",
       "    </tr>\n",
       "    <tr>\n",
       "      <th>2</th>\n",
       "      <td>Male</td>\n",
       "      <td>55.0</td>\n",
       "      <td>0</td>\n",
       "      <td>0</td>\n",
       "      <td>Yes</td>\n",
       "      <td>Private</td>\n",
       "      <td>Urban</td>\n",
       "      <td>89.17</td>\n",
       "      <td>31.5</td>\n",
       "      <td>never smoked</td>\n",
       "    </tr>\n",
       "    <tr>\n",
       "      <th>3</th>\n",
       "      <td>Female</td>\n",
       "      <td>42.0</td>\n",
       "      <td>0</td>\n",
       "      <td>0</td>\n",
       "      <td>No</td>\n",
       "      <td>Private</td>\n",
       "      <td>Urban</td>\n",
       "      <td>98.53</td>\n",
       "      <td>18.5</td>\n",
       "      <td>never smoked</td>\n",
       "    </tr>\n",
       "    <tr>\n",
       "      <th>4</th>\n",
       "      <td>Female</td>\n",
       "      <td>31.0</td>\n",
       "      <td>0</td>\n",
       "      <td>0</td>\n",
       "      <td>No</td>\n",
       "      <td>Private</td>\n",
       "      <td>Urban</td>\n",
       "      <td>108.89</td>\n",
       "      <td>52.3</td>\n",
       "      <td>Unknown</td>\n",
       "    </tr>\n",
       "  </tbody>\n",
       "</table>\n",
       "</div>"
      ],
      "text/plain": [
       "   gender   age  hypertension  heart_disease ever_married work_type  \\\n",
       "0  Female  17.0             0              0           No   Private   \n",
       "1  Female  13.0             0              0           No  children   \n",
       "2    Male  55.0             0              0          Yes   Private   \n",
       "3  Female  42.0             0              0           No   Private   \n",
       "4  Female  31.0             0              0           No   Private   \n",
       "\n",
       "  Residence_type  avg_glucose_level   bmi   smoking_status  \n",
       "0          Urban              92.97   NaN  formerly smoked  \n",
       "1          Rural              85.81  18.6          Unknown  \n",
       "2          Urban              89.17  31.5     never smoked  \n",
       "3          Urban              98.53  18.5     never smoked  \n",
       "4          Urban             108.89  52.3          Unknown  "
      ]
     },
     "execution_count": 25,
     "metadata": {},
     "output_type": "execute_result"
    }
   ],
   "source": [
    "#independent parameters\n",
    "x=data.iloc[:,1:11]\n",
    "x.head()"
   ]
  },
  {
   "cell_type": "code",
   "execution_count": 26,
   "id": "6b22ecc9",
   "metadata": {},
   "outputs": [
    {
     "data": {
      "text/plain": [
       "0    0\n",
       "1    0\n",
       "2    0\n",
       "3    0\n",
       "4    0\n",
       "Name: stroke, dtype: int64"
      ]
     },
     "execution_count": 26,
     "metadata": {},
     "output_type": "execute_result"
    }
   ],
   "source": [
    "#dependent parameter\n",
    "y=data.iloc[:,11]\n",
    "y.head()"
   ]
  },
  {
   "cell_type": "code",
   "execution_count": 27,
   "id": "93395d82",
   "metadata": {},
   "outputs": [],
   "source": [
    "#Numerical_features\n",
    "NF=x[[\"age\",\"bmi\",\"avg_glucose_level\"]]\n",
    "#Cetogorical_features\n",
    "CF=x[[\"gender\",\"hypertension\",\"heart_disease\",\"ever_married\",\"work_type\",\"Residence_type\",\"smoking_status\"]]"
   ]
  },
  {
   "cell_type": "code",
   "execution_count": 28,
   "id": "6779b52f",
   "metadata": {},
   "outputs": [
    {
     "data": {
      "text/html": [
       "<div>\n",
       "<style scoped>\n",
       "    .dataframe tbody tr th:only-of-type {\n",
       "        vertical-align: middle;\n",
       "    }\n",
       "\n",
       "    .dataframe tbody tr th {\n",
       "        vertical-align: top;\n",
       "    }\n",
       "\n",
       "    .dataframe thead th {\n",
       "        text-align: right;\n",
       "    }\n",
       "</style>\n",
       "<table border=\"1\" class=\"dataframe\">\n",
       "  <thead>\n",
       "    <tr style=\"text-align: right;\">\n",
       "      <th></th>\n",
       "      <th>gender</th>\n",
       "      <th>age</th>\n",
       "      <th>hypertension</th>\n",
       "      <th>heart_disease</th>\n",
       "      <th>ever_married</th>\n",
       "      <th>work_type</th>\n",
       "      <th>Residence_type</th>\n",
       "      <th>avg_glucose_level</th>\n",
       "      <th>bmi</th>\n",
       "      <th>smoking_status</th>\n",
       "    </tr>\n",
       "  </thead>\n",
       "  <tbody>\n",
       "    <tr>\n",
       "      <th>0</th>\n",
       "      <td>0</td>\n",
       "      <td>17.0</td>\n",
       "      <td>0</td>\n",
       "      <td>0</td>\n",
       "      <td>0</td>\n",
       "      <td>2</td>\n",
       "      <td>1</td>\n",
       "      <td>92.97</td>\n",
       "      <td>NaN</td>\n",
       "      <td>1</td>\n",
       "    </tr>\n",
       "    <tr>\n",
       "      <th>1</th>\n",
       "      <td>0</td>\n",
       "      <td>13.0</td>\n",
       "      <td>0</td>\n",
       "      <td>0</td>\n",
       "      <td>0</td>\n",
       "      <td>4</td>\n",
       "      <td>0</td>\n",
       "      <td>85.81</td>\n",
       "      <td>18.6</td>\n",
       "      <td>0</td>\n",
       "    </tr>\n",
       "    <tr>\n",
       "      <th>2</th>\n",
       "      <td>1</td>\n",
       "      <td>55.0</td>\n",
       "      <td>0</td>\n",
       "      <td>0</td>\n",
       "      <td>1</td>\n",
       "      <td>2</td>\n",
       "      <td>1</td>\n",
       "      <td>89.17</td>\n",
       "      <td>31.5</td>\n",
       "      <td>2</td>\n",
       "    </tr>\n",
       "    <tr>\n",
       "      <th>3</th>\n",
       "      <td>0</td>\n",
       "      <td>42.0</td>\n",
       "      <td>0</td>\n",
       "      <td>0</td>\n",
       "      <td>0</td>\n",
       "      <td>2</td>\n",
       "      <td>1</td>\n",
       "      <td>98.53</td>\n",
       "      <td>18.5</td>\n",
       "      <td>2</td>\n",
       "    </tr>\n",
       "    <tr>\n",
       "      <th>4</th>\n",
       "      <td>0</td>\n",
       "      <td>31.0</td>\n",
       "      <td>0</td>\n",
       "      <td>0</td>\n",
       "      <td>0</td>\n",
       "      <td>2</td>\n",
       "      <td>1</td>\n",
       "      <td>108.89</td>\n",
       "      <td>52.3</td>\n",
       "      <td>0</td>\n",
       "    </tr>\n",
       "  </tbody>\n",
       "</table>\n",
       "</div>"
      ],
      "text/plain": [
       "   gender   age  hypertension  heart_disease  ever_married  work_type  \\\n",
       "0       0  17.0             0              0             0          2   \n",
       "1       0  13.0             0              0             0          4   \n",
       "2       1  55.0             0              0             1          2   \n",
       "3       0  42.0             0              0             0          2   \n",
       "4       0  31.0             0              0             0          2   \n",
       "\n",
       "   Residence_type  avg_glucose_level   bmi  smoking_status  \n",
       "0               1              92.97   NaN               1  \n",
       "1               0              85.81  18.6               0  \n",
       "2               1              89.17  31.5               2  \n",
       "3               1              98.53  18.5               2  \n",
       "4               1             108.89  52.3               0  "
      ]
     },
     "execution_count": 28,
     "metadata": {},
     "output_type": "execute_result"
    }
   ],
   "source": [
    "#object to int datatype\n",
    "from sklearn.preprocessing import LabelEncoder\n",
    "x_labelencoder=LabelEncoder()\n",
    "x.iloc[:,0]=x_labelencoder.fit_transform(x.iloc[:,0])\n",
    "x.iloc[:,4]=x_labelencoder.fit_transform(x.iloc[:,4])\n",
    "x.iloc[:,5]=x_labelencoder.fit_transform(x.iloc[:,5])\n",
    "x.iloc[:,6]=x_labelencoder.fit_transform(x.iloc[:,6])\n",
    "x.iloc[:,9]=x_labelencoder.fit_transform(x.iloc[:,9])\n",
    "x.head()"
   ]
  },
  {
   "cell_type": "code",
   "execution_count": 29,
   "id": "dca07a7e",
   "metadata": {},
   "outputs": [
    {
     "name": "stdout",
     "output_type": "stream",
     "text": [
      "<class 'pandas.core.frame.DataFrame'>\n",
      "RangeIndex: 5110 entries, 0 to 5109\n",
      "Data columns (total 10 columns):\n",
      " #   Column             Non-Null Count  Dtype  \n",
      "---  ------             --------------  -----  \n",
      " 0   gender             5110 non-null   float64\n",
      " 1   age                5110 non-null   float64\n",
      " 2   hypertension       5110 non-null   float64\n",
      " 3   heart_disease      5110 non-null   float64\n",
      " 4   ever_married       5110 non-null   float64\n",
      " 5   work_type          5110 non-null   float64\n",
      " 6   Residence_type     5110 non-null   float64\n",
      " 7   avg_glucose_level  5110 non-null   float64\n",
      " 8   bmi                5110 non-null   float64\n",
      " 9   smoking_status     5110 non-null   float64\n",
      "dtypes: float64(10)\n",
      "memory usage: 399.3 KB\n"
     ]
    }
   ],
   "source": [
    "#dealing with null values\n",
    "from sklearn.impute import SimpleImputer\n",
    "missingvalueImputer = SimpleImputer(missing_values=np.nan, strategy =\"mean\")\n",
    "missingvalueImputer = missingvalueImputer.fit(x)\n",
    "\n",
    "x.iloc[:,:]=missingvalueImputer.transform(x.iloc[:,:])\n",
    "x.info()"
   ]
  },
  {
   "cell_type": "code",
   "execution_count": 30,
   "id": "442f2bd0",
   "metadata": {},
   "outputs": [],
   "source": [
    "#dividing dataset into train and test data\n",
    "from sklearn.model_selection import train_test_split\n",
    "\n",
    "\n",
    "x_train,x_test,y_train,y_test=train_test_split(x,y,test_size=0.025,random_state=0)"
   ]
  },
  {
   "cell_type": "markdown",
   "id": "c096a668",
   "metadata": {},
   "source": [
    "# Model creating and evaluation"
   ]
  },
  {
   "cell_type": "code",
   "execution_count": 10,
   "id": "3b67e8a7",
   "metadata": {},
   "outputs": [
    {
     "data": {
      "text/plain": [
       "array([0, 0, 0, 0, 0, 0, 0, 0, 0, 0, 0, 0, 0, 0, 0, 0, 0, 0, 0, 0, 0, 0,\n",
       "       0, 0, 0, 0, 0, 0, 0, 0, 0, 0, 0, 0, 0, 0, 0, 0, 0, 0, 0, 0, 0, 0,\n",
       "       0, 0, 0, 0, 0, 0, 0, 0, 0, 0, 0, 0, 0, 0, 0, 0, 0, 0, 0, 0, 0, 0,\n",
       "       0, 0, 0, 0, 0, 0, 0, 0, 0, 0, 0, 0, 0, 0, 0, 0, 0, 0, 0, 0, 0, 0,\n",
       "       0, 0, 0, 0, 0, 0, 0, 0, 0, 0, 0, 0, 0, 0, 0, 0, 0, 0, 0, 0, 0, 0,\n",
       "       0, 0, 0, 0, 0, 0, 0, 0, 0, 0, 0, 0, 0, 0, 0, 0, 0, 0], dtype=int64)"
      ]
     },
     "execution_count": 10,
     "metadata": {},
     "output_type": "execute_result"
    }
   ],
   "source": [
    "#Desicion Tree\n",
    "from sklearn.tree import DecisionTreeClassifier\n",
    "\n",
    "decision_tree=DecisionTreeClassifier(criterion=\"entropy\",max_depth=4)\n",
    "decision_tree.fit(x_train,y_train)\n",
    "predictValues=decision_tree.predict(x_test)\n",
    "\n",
    "\n",
    "predictValues\n"
   ]
  },
  {
   "cell_type": "code",
   "execution_count": 11,
   "id": "ba430c6d",
   "metadata": {},
   "outputs": [
    {
     "name": "stderr",
     "output_type": "stream",
     "text": [
      "D:\\python\\lib\\site-packages\\sklearn\\base.py:450: UserWarning: X does not have valid feature names, but DecisionTreeClassifier was fitted with feature names\n",
      "  warnings.warn(\n"
     ]
    },
    {
     "data": {
      "text/plain": [
       "array([0], dtype=int64)"
      ]
     },
     "execution_count": 11,
     "metadata": {},
     "output_type": "execute_result"
    }
   ],
   "source": [
    "input=[[0,56,1,1,1,2,1,9,54,0]]\n",
    "decision_tree.predict(input)"
   ]
  },
  {
   "cell_type": "code",
   "execution_count": 12,
   "id": "9a783e2b",
   "metadata": {},
   "outputs": [
    {
     "name": "stdout",
     "output_type": "stream",
     "text": [
      "0.984375\n"
     ]
    }
   ],
   "source": [
    "from sklearn.metrics import accuracy_score\n",
    "\n",
    "print(accuracy_score(predictValues, y_test))"
   ]
  },
  {
   "cell_type": "code",
   "execution_count": 13,
   "id": "1f8a6e73",
   "metadata": {},
   "outputs": [
    {
     "data": {
      "image/png": "[encoded data removed]",
      "text/plain": [
       "<Figure size 432x288 with 2 Axes>"
      ]
     },
     "metadata": {
      "needs_background": "light"
     },
     "output_type": "display_data"
    }
   ],
   "source": [
    "import seaborn as sns\n",
    "from sklearn.metrics import confusion_matrix\n",
    "\n",
    "# passing actual and predicted values\n",
    "cm = confusion_matrix(y_test, predictValues)\n",
    "\n",
    "# true write data values in each cell of the matrix\n",
    "sns.heatmap(cm, annot=True)\n",
    "plt.savefig('confusion.png')"
   ]
  },
  {
   "cell_type": "code",
   "execution_count": 36,
   "id": "13a84298",
   "metadata": {},
   "outputs": [
    {
     "name": "stdout",
     "output_type": "stream",
     "text": [
      "Requirement already satisfied: graphviz in d:\\python\\lib\\site-packages (0.20.1)\n"
     ]
    }
   ],
   "source": [
    "data_features_names=x.columns\n",
    "!pip install graphviz\n",
    "from sklearn.tree import export_graphviz\n",
    "from sklearn import tree\n",
    "from graphviz import Source\n",
    "from IPython.display import SVG\n",
    "from IPython.display import display"
   ]
  },
  {
   "cell_type": "code",
   "execution_count": 37,
   "id": "d29035f1",
   "metadata": {},
   "outputs": [
    {
     "data": {
      "image/svg+xml": [
       "<svg xmlns=\"http://www.w3.org/2000/svg\" xmlns:xlink=\"http://www.w3.org/1999/xlink\" width=\"1832pt\" height=\"477pt\" viewBox=\"0.00 0.00 1831.50 477.00\">\n",
       "<g id=\"graph0\" class=\"graph\" transform=\"scale(1 1) rotate(0) translate(4 473)\">\n",
       "<title>Tree</title>\n",
       "<polygon fill=\"white\" stroke=\"transparent\" points=\"-4,4 -4,-473 1827.5,-473 1827.5,4 -4,4\"/>\n",
       "<!-- 0 -->\n",
       "<g id=\"node1\" class=\"node\">\n",
       "<title>0</title>\n",
       "<path fill=\"#e68843\" stroke=\"black\" d=\"M791.5,-469C791.5,-469 683.5,-469 683.5,-469 677.5,-469 671.5,-463 671.5,-457 671.5,-457 671.5,-413 671.5,-413 671.5,-407 677.5,-401 683.5,-401 683.5,-401 791.5,-401 791.5,-401 797.5,-401 803.5,-407 803.5,-413 803.5,-413 803.5,-457 803.5,-457 803.5,-463 797.5,-469 791.5,-469\"/>\n",
       "<text text-anchor=\"middle\" x=\"737.5\" y=\"-453.8\" font-family=\"Helvetica,sans-Serif\" font-size=\"14.00\">age &lt;= 56.5</text>\n",
       "<text text-anchor=\"middle\" x=\"737.5\" y=\"-438.8\" font-family=\"Helvetica,sans-Serif\" font-size=\"14.00\">entropy = 0.285</text>\n",
       "<text text-anchor=\"middle\" x=\"737.5\" y=\"-423.8\" font-family=\"Helvetica,sans-Serif\" font-size=\"14.00\">samples = 4982</text>\n",
       "<text text-anchor=\"middle\" x=\"737.5\" y=\"-408.8\" font-family=\"Helvetica,sans-Serif\" font-size=\"14.00\">value = [4735, 247]</text>\n",
       "</g>\n",
       "<!-- 1 -->\n",
       "<g id=\"node2\" class=\"node\">\n",
       "<title>1</title>\n",
       "<path fill=\"#e5833b\" stroke=\"black\" d=\"M601,-365C601,-365 500,-365 500,-365 494,-365 488,-359 488,-353 488,-353 488,-309 488,-309 488,-303 494,-297 500,-297 500,-297 601,-297 601,-297 607,-297 613,-303 613,-309 613,-309 613,-353 613,-353 613,-359 607,-365 601,-365\"/>\n",
       "<text text-anchor=\"middle\" x=\"550.5\" y=\"-349.8\" font-family=\"Helvetica,sans-Serif\" font-size=\"14.00\">age &lt;= 37.5</text>\n",
       "<text text-anchor=\"middle\" x=\"550.5\" y=\"-334.8\" font-family=\"Helvetica,sans-Serif\" font-size=\"14.00\">entropy = 0.094</text>\n",
       "<text text-anchor=\"middle\" x=\"550.5\" y=\"-319.8\" font-family=\"Helvetica,sans-Serif\" font-size=\"14.00\">samples = 3398</text>\n",
       "<text text-anchor=\"middle\" x=\"550.5\" y=\"-304.8\" font-family=\"Helvetica,sans-Serif\" font-size=\"14.00\">value = [3357, 41]</text>\n",
       "</g>\n",
       "<!-- 0&#45;&gt;1 -->\n",
       "<g id=\"edge1\" class=\"edge\">\n",
       "<title>0-&gt;1</title>\n",
       "<path fill=\"none\" stroke=\"black\" d=\"M676.79,-400.88C658.73,-391.04 638.81,-380.17 620.23,-370.03\"/>\n",
       "<polygon fill=\"black\" stroke=\"black\" points=\"621.68,-366.84 611.23,-365.12 618.33,-372.99 621.68,-366.84\"/>\n",
       "<text text-anchor=\"middle\" x=\"618.28\" y=\"-385.41\" font-family=\"Helvetica,sans-Serif\" font-size=\"14.00\">True</text>\n",
       "</g>\n",
       "<!-- 14 -->\n",
       "<g id=\"node15\" class=\"node\">\n",
       "<title>14</title>\n",
       "<path fill=\"#e99457\" stroke=\"black\" d=\"M1109.5,-365C1109.5,-365 1001.5,-365 1001.5,-365 995.5,-365 989.5,-359 989.5,-353 989.5,-353 989.5,-309 989.5,-309 989.5,-303 995.5,-297 1001.5,-297 1001.5,-297 1109.5,-297 1109.5,-297 1115.5,-297 1121.5,-303 1121.5,-309 1121.5,-309 1121.5,-353 1121.5,-353 1121.5,-359 1115.5,-365 1109.5,-365\"/>\n",
       "<text text-anchor=\"middle\" x=\"1055.5\" y=\"-349.8\" font-family=\"Helvetica,sans-Serif\" font-size=\"14.00\">age &lt;= 73.5</text>\n",
       "<text text-anchor=\"middle\" x=\"1055.5\" y=\"-334.8\" font-family=\"Helvetica,sans-Serif\" font-size=\"14.00\">entropy = 0.558</text>\n",
       "<text text-anchor=\"middle\" x=\"1055.5\" y=\"-319.8\" font-family=\"Helvetica,sans-Serif\" font-size=\"14.00\">samples = 1584</text>\n",
       "<text text-anchor=\"middle\" x=\"1055.5\" y=\"-304.8\" font-family=\"Helvetica,sans-Serif\" font-size=\"14.00\">value = [1378, 206]</text>\n",
       "</g>\n",
       "<!-- 0&#45;&gt;14 -->\n",
       "<g id=\"edge14\" class=\"edge\">\n",
       "<title>0-&gt;14</title>\n",
       "<path fill=\"none\" stroke=\"black\" d=\"M803.78,-412.74C855.01,-396.31 925.99,-373.54 979.53,-356.37\"/>\n",
       "<polygon fill=\"black\" stroke=\"black\" points=\"980.86,-359.62 989.31,-353.23 978.72,-352.95 980.86,-359.62\"/>\n",
       "<text text-anchor=\"middle\" x=\"977.88\" y=\"-371.76\" font-family=\"Helvetica,sans-Serif\" font-size=\"14.00\">False</text>\n",
       "</g>\n",
       "<!-- 2 -->\n",
       "<g id=\"node3\" class=\"node\">\n",
       "<title>2</title>\n",
       "<path fill=\"#e58139\" stroke=\"black\" d=\"M402,-261C402,-261 241,-261 241,-261 235,-261 229,-255 229,-249 229,-249 229,-205 229,-205 229,-199 235,-193 241,-193 241,-193 402,-193 402,-193 408,-193 414,-199 414,-205 414,-205 414,-249 414,-249 414,-255 408,-261 402,-261\"/>\n",
       "<text text-anchor=\"middle\" x=\"321.5\" y=\"-245.8\" font-family=\"Helvetica,sans-Serif\" font-size=\"14.00\">avg_glucose_level &lt;= 76.16</text>\n",
       "<text text-anchor=\"middle\" x=\"321.5\" y=\"-230.8\" font-family=\"Helvetica,sans-Serif\" font-size=\"14.00\">entropy = 0.016</text>\n",
       "<text text-anchor=\"middle\" x=\"321.5\" y=\"-215.8\" font-family=\"Helvetica,sans-Serif\" font-size=\"14.00\">samples = 1985</text>\n",
       "<text text-anchor=\"middle\" x=\"321.5\" y=\"-200.8\" font-family=\"Helvetica,sans-Serif\" font-size=\"14.00\">value = [1982, 3]</text>\n",
       "</g>\n",
       "<!-- 1&#45;&gt;2 -->\n",
       "<g id=\"edge2\" class=\"edge\">\n",
       "<title>1-&gt;2</title>\n",
       "<path fill=\"none\" stroke=\"black\" d=\"M487.92,-302.13C462.34,-290.73 432.38,-277.39 404.98,-265.18\"/>\n",
       "<polygon fill=\"black\" stroke=\"black\" points=\"406.35,-261.96 395.79,-261.09 403.5,-268.36 406.35,-261.96\"/>\n",
       "</g>\n",
       "<!-- 7 -->\n",
       "<g id=\"node8\" class=\"node\">\n",
       "<title>7</title>\n",
       "<path fill=\"#e6843e\" stroke=\"black\" d=\"M607,-261C607,-261 494,-261 494,-261 488,-261 482,-255 482,-249 482,-249 482,-205 482,-205 482,-199 488,-193 494,-193 494,-193 607,-193 607,-193 613,-193 619,-199 619,-205 619,-205 619,-249 619,-249 619,-255 613,-261 607,-261\"/>\n",
       "<text text-anchor=\"middle\" x=\"550.5\" y=\"-245.8\" font-family=\"Helvetica,sans-Serif\" font-size=\"14.00\">hypertension &lt;= 0.5</text>\n",
       "<text text-anchor=\"middle\" x=\"550.5\" y=\"-230.8\" font-family=\"Helvetica,sans-Serif\" font-size=\"14.00\">entropy = 0.179</text>\n",
       "<text text-anchor=\"middle\" x=\"550.5\" y=\"-215.8\" font-family=\"Helvetica,sans-Serif\" font-size=\"14.00\">samples = 1413</text>\n",
       "<text text-anchor=\"middle\" x=\"550.5\" y=\"-200.8\" font-family=\"Helvetica,sans-Serif\" font-size=\"14.00\">value = [1375, 38]</text>\n",
       "</g>\n",
       "<!-- 1&#45;&gt;7 -->\n",
       "<g id=\"edge7\" class=\"edge\">\n",
       "<title>1-&gt;7</title>\n",
       "<path fill=\"none\" stroke=\"black\" d=\"M550.5,-296.88C550.5,-288.78 550.5,-279.98 550.5,-271.47\"/>\n",
       "<polygon fill=\"black\" stroke=\"black\" points=\"554,-271.3 550.5,-261.3 547,-271.3 554,-271.3\"/>\n",
       "</g>\n",
       "<!-- 3 -->\n",
       "<g id=\"node4\" class=\"node\">\n",
       "<title>3</title>\n",
       "<path fill=\"#e5823a\" stroke=\"black\" d=\"M233,-157C233,-157 64,-157 64,-157 58,-157 52,-151 52,-145 52,-145 52,-101 52,-101 52,-95 58,-89 64,-89 64,-89 233,-89 233,-89 239,-89 245,-95 245,-101 245,-101 245,-145 245,-145 245,-151 239,-157 233,-157\"/>\n",
       "<text text-anchor=\"middle\" x=\"148.5\" y=\"-141.8\" font-family=\"Helvetica,sans-Serif\" font-size=\"14.00\">avg_glucose_level &lt;= 76.125</text>\n",
       "<text text-anchor=\"middle\" x=\"148.5\" y=\"-126.8\" font-family=\"Helvetica,sans-Serif\" font-size=\"14.00\">entropy = 0.051</text>\n",
       "<text text-anchor=\"middle\" x=\"148.5\" y=\"-111.8\" font-family=\"Helvetica,sans-Serif\" font-size=\"14.00\">samples = 526</text>\n",
       "<text text-anchor=\"middle\" x=\"148.5\" y=\"-96.8\" font-family=\"Helvetica,sans-Serif\" font-size=\"14.00\">value = [523, 3]</text>\n",
       "</g>\n",
       "<!-- 2&#45;&gt;3 -->\n",
       "<g id=\"edge3\" class=\"edge\">\n",
       "<title>2-&gt;3</title>\n",
       "<path fill=\"none\" stroke=\"black\" d=\"M265.33,-192.88C248.78,-183.12 230.53,-172.37 213.48,-162.31\"/>\n",
       "<polygon fill=\"black\" stroke=\"black\" points=\"215.07,-159.19 204.68,-157.12 211.52,-165.22 215.07,-159.19\"/>\n",
       "</g>\n",
       "<!-- 6 -->\n",
       "<g id=\"node7\" class=\"node\">\n",
       "<title>6</title>\n",
       "<path fill=\"#e58139\" stroke=\"black\" d=\"M368,-149.5C368,-149.5 275,-149.5 275,-149.5 269,-149.5 263,-143.5 263,-137.5 263,-137.5 263,-108.5 263,-108.5 263,-102.5 269,-96.5 275,-96.5 275,-96.5 368,-96.5 368,-96.5 374,-96.5 380,-102.5 380,-108.5 380,-108.5 380,-137.5 380,-137.5 380,-143.5 374,-149.5 368,-149.5\"/>\n",
       "<text text-anchor=\"middle\" x=\"321.5\" y=\"-134.3\" font-family=\"Helvetica,sans-Serif\" font-size=\"14.00\">entropy = 0.0</text>\n",
       "<text text-anchor=\"middle\" x=\"321.5\" y=\"-119.3\" font-family=\"Helvetica,sans-Serif\" font-size=\"14.00\">samples = 1459</text>\n",
       "<text text-anchor=\"middle\" x=\"321.5\" y=\"-104.3\" font-family=\"Helvetica,sans-Serif\" font-size=\"14.00\">value = [1459, 0]</text>\n",
       "</g>\n",
       "<!-- 2&#45;&gt;6 -->\n",
       "<g id=\"edge6\" class=\"edge\">\n",
       "<title>2-&gt;6</title>\n",
       "<path fill=\"none\" stroke=\"black\" d=\"M321.5,-192.88C321.5,-182.33 321.5,-170.6 321.5,-159.85\"/>\n",
       "<polygon fill=\"black\" stroke=\"black\" points=\"325,-159.52 321.5,-149.52 318,-159.52 325,-159.52\"/>\n",
       "</g>\n",
       "<!-- 4 -->\n",
       "<g id=\"node5\" class=\"node\">\n",
       "<title>4</title>\n",
       "<path fill=\"#e5813a\" stroke=\"black\" d=\"M99,-53C99,-53 12,-53 12,-53 6,-53 0,-47 0,-41 0,-41 0,-12 0,-12 0,-6 6,0 12,0 12,0 99,0 99,0 105,0 111,-6 111,-12 111,-12 111,-41 111,-41 111,-47 105,-53 99,-53\"/>\n",
       "<text text-anchor=\"middle\" x=\"55.5\" y=\"-37.8\" font-family=\"Helvetica,sans-Serif\" font-size=\"14.00\">entropy = 0.036</text>\n",
       "<text text-anchor=\"middle\" x=\"55.5\" y=\"-22.8\" font-family=\"Helvetica,sans-Serif\" font-size=\"14.00\">samples = 525</text>\n",
       "<text text-anchor=\"middle\" x=\"55.5\" y=\"-7.8\" font-family=\"Helvetica,sans-Serif\" font-size=\"14.00\">value = [523, 2]</text>\n",
       "</g>\n",
       "<!-- 3&#45;&gt;4 -->\n",
       "<g id=\"edge4\" class=\"edge\">\n",
       "<title>3-&gt;4</title>\n",
       "<path fill=\"none\" stroke=\"black\" d=\"M115.97,-88.95C106.88,-79.71 97,-69.67 87.92,-60.44\"/>\n",
       "<polygon fill=\"black\" stroke=\"black\" points=\"90.34,-57.91 80.83,-53.24 85.35,-62.82 90.34,-57.91\"/>\n",
       "</g>\n",
       "<!-- 5 -->\n",
       "<g id=\"node6\" class=\"node\">\n",
       "<title>5</title>\n",
       "<path fill=\"#399de5\" stroke=\"black\" d=\"M213.5,-53C213.5,-53 141.5,-53 141.5,-53 135.5,-53 129.5,-47 129.5,-41 129.5,-41 129.5,-12 129.5,-12 129.5,-6 135.5,0 141.5,0 141.5,0 213.5,0 213.5,0 219.5,0 225.5,-6 225.5,-12 225.5,-12 225.5,-41 225.5,-41 225.5,-47 219.5,-53 213.5,-53\"/>\n",
       "<text text-anchor=\"middle\" x=\"177.5\" y=\"-37.8\" font-family=\"Helvetica,sans-Serif\" font-size=\"14.00\">entropy = 0.0</text>\n",
       "<text text-anchor=\"middle\" x=\"177.5\" y=\"-22.8\" font-family=\"Helvetica,sans-Serif\" font-size=\"14.00\">samples = 1</text>\n",
       "<text text-anchor=\"middle\" x=\"177.5\" y=\"-7.8\" font-family=\"Helvetica,sans-Serif\" font-size=\"14.00\">value = [0, 1]</text>\n",
       "</g>\n",
       "<!-- 3&#45;&gt;5 -->\n",
       "<g id=\"edge5\" class=\"edge\">\n",
       "<title>3-&gt;5</title>\n",
       "<path fill=\"none\" stroke=\"black\" d=\"M158.64,-88.95C161.23,-80.53 164.01,-71.45 166.63,-62.92\"/>\n",
       "<polygon fill=\"black\" stroke=\"black\" points=\"170.01,-63.82 169.6,-53.24 163.32,-61.77 170.01,-63.82\"/>\n",
       "</g>\n",
       "<!-- 8 -->\n",
       "<g id=\"node9\" class=\"node\">\n",
       "<title>8</title>\n",
       "<path fill=\"#e6843d\" stroke=\"black\" d=\"M511,-157C511,-157 410,-157 410,-157 404,-157 398,-151 398,-145 398,-145 398,-101 398,-101 398,-95 404,-89 410,-89 410,-89 511,-89 511,-89 517,-89 523,-95 523,-101 523,-101 523,-145 523,-145 523,-151 517,-157 511,-157\"/>\n",
       "<text text-anchor=\"middle\" x=\"460.5\" y=\"-141.8\" font-family=\"Helvetica,sans-Serif\" font-size=\"14.00\">bmi &lt;= 25.35</text>\n",
       "<text text-anchor=\"middle\" x=\"460.5\" y=\"-126.8\" font-family=\"Helvetica,sans-Serif\" font-size=\"14.00\">entropy = 0.152</text>\n",
       "<text text-anchor=\"middle\" x=\"460.5\" y=\"-111.8\" font-family=\"Helvetica,sans-Serif\" font-size=\"14.00\">samples = 1274</text>\n",
       "<text text-anchor=\"middle\" x=\"460.5\" y=\"-96.8\" font-family=\"Helvetica,sans-Serif\" font-size=\"14.00\">value = [1246, 28]</text>\n",
       "</g>\n",
       "<!-- 7&#45;&gt;8 -->\n",
       "<g id=\"edge8\" class=\"edge\">\n",
       "<title>7-&gt;8</title>\n",
       "<path fill=\"none\" stroke=\"black\" d=\"M521.28,-192.88C513.42,-183.98 504.83,-174.24 496.64,-164.96\"/>\n",
       "<polygon fill=\"black\" stroke=\"black\" points=\"499.12,-162.48 489.88,-157.3 493.87,-167.11 499.12,-162.48\"/>\n",
       "</g>\n",
       "<!-- 11 -->\n",
       "<g id=\"node12\" class=\"node\">\n",
       "<title>11</title>\n",
       "<path fill=\"#e78b48\" stroke=\"black\" d=\"M646,-157C646,-157 553,-157 553,-157 547,-157 541,-151 541,-145 541,-145 541,-101 541,-101 541,-95 547,-89 553,-89 553,-89 646,-89 646,-89 652,-89 658,-95 658,-101 658,-101 658,-145 658,-145 658,-151 652,-157 646,-157\"/>\n",
       "<text text-anchor=\"middle\" x=\"599.5\" y=\"-141.8\" font-family=\"Helvetica,sans-Serif\" font-size=\"14.00\">age &lt;= 49.5</text>\n",
       "<text text-anchor=\"middle\" x=\"599.5\" y=\"-126.8\" font-family=\"Helvetica,sans-Serif\" font-size=\"14.00\">entropy = 0.373</text>\n",
       "<text text-anchor=\"middle\" x=\"599.5\" y=\"-111.8\" font-family=\"Helvetica,sans-Serif\" font-size=\"14.00\">samples = 139</text>\n",
       "<text text-anchor=\"middle\" x=\"599.5\" y=\"-96.8\" font-family=\"Helvetica,sans-Serif\" font-size=\"14.00\">value = [129, 10]</text>\n",
       "</g>\n",
       "<!-- 7&#45;&gt;11 -->\n",
       "<g id=\"edge11\" class=\"edge\">\n",
       "<title>7-&gt;11</title>\n",
       "<path fill=\"none\" stroke=\"black\" d=\"M566.41,-192.88C570.47,-184.42 574.9,-175.21 579.15,-166.35\"/>\n",
       "<polygon fill=\"black\" stroke=\"black\" points=\"582.33,-167.83 583.5,-157.3 576.02,-164.8 582.33,-167.83\"/>\n",
       "</g>\n",
       "<!-- 9 -->\n",
       "<g id=\"node10\" class=\"node\">\n",
       "<title>9</title>\n",
       "<path fill=\"#e5823a\" stroke=\"black\" d=\"M372,-53C372,-53 285,-53 285,-53 279,-53 273,-47 273,-41 273,-41 273,-12 273,-12 273,-6 279,0 285,0 285,0 372,0 372,0 378,0 384,-6 384,-12 384,-12 384,-41 384,-41 384,-47 378,-53 372,-53\"/>\n",
       "<text text-anchor=\"middle\" x=\"328.5\" y=\"-37.8\" font-family=\"Helvetica,sans-Serif\" font-size=\"14.00\">entropy = 0.063</text>\n",
       "<text text-anchor=\"middle\" x=\"328.5\" y=\"-22.8\" font-family=\"Helvetica,sans-Serif\" font-size=\"14.00\">samples = 269</text>\n",
       "<text text-anchor=\"middle\" x=\"328.5\" y=\"-7.8\" font-family=\"Helvetica,sans-Serif\" font-size=\"14.00\">value = [267, 2]</text>\n",
       "</g>\n",
       "<!-- 8&#45;&gt;9 -->\n",
       "<g id=\"edge9\" class=\"edge\">\n",
       "<title>8-&gt;9</title>\n",
       "<path fill=\"none\" stroke=\"black\" d=\"M414.33,-88.95C400.79,-79.25 386.01,-68.68 372.6,-59.07\"/>\n",
       "<polygon fill=\"black\" stroke=\"black\" points=\"374.62,-56.21 364.45,-53.24 370.54,-61.9 374.62,-56.21\"/>\n",
       "</g>\n",
       "<!-- 10 -->\n",
       "<g id=\"node11\" class=\"node\">\n",
       "<title>10</title>\n",
       "<path fill=\"#e6843e\" stroke=\"black\" d=\"M507,-53C507,-53 414,-53 414,-53 408,-53 402,-47 402,-41 402,-41 402,-12 402,-12 402,-6 408,0 414,0 414,0 507,0 507,0 513,0 519,-6 519,-12 519,-12 519,-41 519,-41 519,-47 513,-53 507,-53\"/>\n",
       "<text text-anchor=\"middle\" x=\"460.5\" y=\"-37.8\" font-family=\"Helvetica,sans-Serif\" font-size=\"14.00\">entropy = 0.173</text>\n",
       "<text text-anchor=\"middle\" x=\"460.5\" y=\"-22.8\" font-family=\"Helvetica,sans-Serif\" font-size=\"14.00\">samples = 1005</text>\n",
       "<text text-anchor=\"middle\" x=\"460.5\" y=\"-7.8\" font-family=\"Helvetica,sans-Serif\" font-size=\"14.00\">value = [979, 26]</text>\n",
       "</g>\n",
       "<!-- 8&#45;&gt;10 -->\n",
       "<g id=\"edge10\" class=\"edge\">\n",
       "<title>8-&gt;10</title>\n",
       "<path fill=\"none\" stroke=\"black\" d=\"M460.5,-88.95C460.5,-80.72 460.5,-71.85 460.5,-63.48\"/>\n",
       "<polygon fill=\"black\" stroke=\"black\" points=\"464,-63.24 460.5,-53.24 457,-63.24 464,-63.24\"/>\n",
       "</g>\n",
       "<!-- 12 -->\n",
       "<g id=\"node13\" class=\"node\">\n",
       "<title>12</title>\n",
       "<path fill=\"#e5833c\" stroke=\"black\" d=\"M636,-53C636,-53 549,-53 549,-53 543,-53 537,-47 537,-41 537,-41 537,-12 537,-12 537,-6 543,0 549,0 549,0 636,0 636,0 642,0 648,-6 648,-12 648,-12 648,-41 648,-41 648,-47 642,-53 636,-53\"/>\n",
       "<text text-anchor=\"middle\" x=\"592.5\" y=\"-37.8\" font-family=\"Helvetica,sans-Serif\" font-size=\"14.00\">entropy = 0.122</text>\n",
       "<text text-anchor=\"middle\" x=\"592.5\" y=\"-22.8\" font-family=\"Helvetica,sans-Serif\" font-size=\"14.00\">samples = 60</text>\n",
       "<text text-anchor=\"middle\" x=\"592.5\" y=\"-7.8\" font-family=\"Helvetica,sans-Serif\" font-size=\"14.00\">value = [59, 1]</text>\n",
       "</g>\n",
       "<!-- 11&#45;&gt;12 -->\n",
       "<g id=\"edge12\" class=\"edge\">\n",
       "<title>11-&gt;12</title>\n",
       "<path fill=\"none\" stroke=\"black\" d=\"M597.05,-88.95C596.44,-80.72 595.79,-71.85 595.17,-63.48\"/>\n",
       "<polygon fill=\"black\" stroke=\"black\" points=\"598.64,-62.95 594.41,-53.24 591.65,-63.47 598.64,-62.95\"/>\n",
       "</g>\n",
       "<!-- 13 -->\n",
       "<g id=\"node14\" class=\"node\">\n",
       "<title>13</title>\n",
       "<path fill=\"#e89152\" stroke=\"black\" d=\"M765,-53C765,-53 678,-53 678,-53 672,-53 666,-47 666,-41 666,-41 666,-12 666,-12 666,-6 672,0 678,0 678,0 765,0 765,0 771,0 777,-6 777,-12 777,-12 777,-41 777,-41 777,-47 771,-53 765,-53\"/>\n",
       "<text text-anchor=\"middle\" x=\"721.5\" y=\"-37.8\" font-family=\"Helvetica,sans-Serif\" font-size=\"14.00\">entropy = 0.512</text>\n",
       "<text text-anchor=\"middle\" x=\"721.5\" y=\"-22.8\" font-family=\"Helvetica,sans-Serif\" font-size=\"14.00\">samples = 79</text>\n",
       "<text text-anchor=\"middle\" x=\"721.5\" y=\"-7.8\" font-family=\"Helvetica,sans-Serif\" font-size=\"14.00\">value = [70, 9]</text>\n",
       "</g>\n",
       "<!-- 11&#45;&gt;13 -->\n",
       "<g id=\"edge13\" class=\"edge\">\n",
       "<title>11-&gt;13</title>\n",
       "<path fill=\"none\" stroke=\"black\" d=\"M642.17,-88.95C654.45,-79.43 667.83,-69.07 680.04,-59.62\"/>\n",
       "<polygon fill=\"black\" stroke=\"black\" points=\"682.51,-62.13 688.27,-53.24 678.22,-56.59 682.51,-62.13\"/>\n",
       "</g>\n",
       "<!-- 15 -->\n",
       "<g id=\"node16\" class=\"node\">\n",
       "<title>15</title>\n",
       "<path fill=\"#e88e4d\" stroke=\"black\" d=\"M1143.5,-261C1143.5,-261 967.5,-261 967.5,-261 961.5,-261 955.5,-255 955.5,-249 955.5,-249 955.5,-205 955.5,-205 955.5,-199 961.5,-193 967.5,-193 967.5,-193 1143.5,-193 1143.5,-193 1149.5,-193 1155.5,-199 1155.5,-205 1155.5,-205 1155.5,-249 1155.5,-249 1155.5,-255 1149.5,-261 1143.5,-261\"/>\n",
       "<text text-anchor=\"middle\" x=\"1055.5\" y=\"-245.8\" font-family=\"Helvetica,sans-Serif\" font-size=\"14.00\">avg_glucose_level &lt;= 178.705</text>\n",
       "<text text-anchor=\"middle\" x=\"1055.5\" y=\"-230.8\" font-family=\"Helvetica,sans-Serif\" font-size=\"14.00\">entropy = 0.442</text>\n",
       "<text text-anchor=\"middle\" x=\"1055.5\" y=\"-215.8\" font-family=\"Helvetica,sans-Serif\" font-size=\"14.00\">samples = 1038</text>\n",
       "<text text-anchor=\"middle\" x=\"1055.5\" y=\"-200.8\" font-family=\"Helvetica,sans-Serif\" font-size=\"14.00\">value = [943, 95]</text>\n",
       "</g>\n",
       "<!-- 14&#45;&gt;15 -->\n",
       "<g id=\"edge15\" class=\"edge\">\n",
       "<title>14-&gt;15</title>\n",
       "<path fill=\"none\" stroke=\"black\" d=\"M1055.5,-296.88C1055.5,-288.78 1055.5,-279.98 1055.5,-271.47\"/>\n",
       "<polygon fill=\"black\" stroke=\"black\" points=\"1059,-271.3 1055.5,-261.3 1052,-271.3 1059,-271.3\"/>\n",
       "</g>\n",
       "<!-- 22 -->\n",
       "<g id=\"node23\" class=\"node\">\n",
       "<title>22</title>\n",
       "<path fill=\"#eca16c\" stroke=\"black\" d=\"M1481,-261C1481,-261 1382,-261 1382,-261 1376,-261 1370,-255 1370,-249 1370,-249 1370,-205 1370,-205 1370,-199 1376,-193 1382,-193 1382,-193 1481,-193 1481,-193 1487,-193 1493,-199 1493,-205 1493,-205 1493,-249 1493,-249 1493,-255 1487,-261 1481,-261\"/>\n",
       "<text text-anchor=\"middle\" x=\"1431.5\" y=\"-245.8\" font-family=\"Helvetica,sans-Serif\" font-size=\"14.00\">bmi &lt;= 34.15</text>\n",
       "<text text-anchor=\"middle\" x=\"1431.5\" y=\"-230.8\" font-family=\"Helvetica,sans-Serif\" font-size=\"14.00\">entropy = 0.728</text>\n",
       "<text text-anchor=\"middle\" x=\"1431.5\" y=\"-215.8\" font-family=\"Helvetica,sans-Serif\" font-size=\"14.00\">samples = 546</text>\n",
       "<text text-anchor=\"middle\" x=\"1431.5\" y=\"-200.8\" font-family=\"Helvetica,sans-Serif\" font-size=\"14.00\">value = [435, 111]</text>\n",
       "</g>\n",
       "<!-- 14&#45;&gt;22 -->\n",
       "<g id=\"edge22\" class=\"edge\">\n",
       "<title>14-&gt;22</title>\n",
       "<path fill=\"none\" stroke=\"black\" d=\"M1121.86,-312C1188.67,-293.87 1291.4,-266 1359.99,-247.4\"/>\n",
       "<polygon fill=\"black\" stroke=\"black\" points=\"1361.12,-250.72 1369.86,-244.72 1359.29,-243.96 1361.12,-250.72\"/>\n",
       "</g>\n",
       "<!-- 16 -->\n",
       "<g id=\"node17\" class=\"node\">\n",
       "<title>16</title>\n",
       "<path fill=\"#e78a47\" stroke=\"black\" d=\"M1028,-157C1028,-157 935,-157 935,-157 929,-157 923,-151 923,-145 923,-145 923,-101 923,-101 923,-95 929,-89 935,-89 935,-89 1028,-89 1028,-89 1034,-89 1040,-95 1040,-101 1040,-101 1040,-145 1040,-145 1040,-151 1034,-157 1028,-157\"/>\n",
       "<text text-anchor=\"middle\" x=\"981.5\" y=\"-141.8\" font-family=\"Helvetica,sans-Serif\" font-size=\"14.00\">bmi &lt;= 28.897</text>\n",
       "<text text-anchor=\"middle\" x=\"981.5\" y=\"-126.8\" font-family=\"Helvetica,sans-Serif\" font-size=\"14.00\">entropy = 0.353</text>\n",
       "<text text-anchor=\"middle\" x=\"981.5\" y=\"-111.8\" font-family=\"Helvetica,sans-Serif\" font-size=\"14.00\">samples = 795</text>\n",
       "<text text-anchor=\"middle\" x=\"981.5\" y=\"-96.8\" font-family=\"Helvetica,sans-Serif\" font-size=\"14.00\">value = [742, 53]</text>\n",
       "</g>\n",
       "<!-- 15&#45;&gt;16 -->\n",
       "<g id=\"edge16\" class=\"edge\">\n",
       "<title>15-&gt;16</title>\n",
       "<path fill=\"none\" stroke=\"black\" d=\"M1031.47,-192.88C1025.14,-184.15 1018.23,-174.62 1011.62,-165.51\"/>\n",
       "<polygon fill=\"black\" stroke=\"black\" points=\"1014.36,-163.34 1005.66,-157.3 1008.7,-167.45 1014.36,-163.34\"/>\n",
       "</g>\n",
       "<!-- 19 -->\n",
       "<g id=\"node20\" class=\"node\">\n",
       "<title>19</title>\n",
       "<path fill=\"#ea9b62\" stroke=\"black\" d=\"M1190.5,-157C1190.5,-157 1070.5,-157 1070.5,-157 1064.5,-157 1058.5,-151 1058.5,-145 1058.5,-145 1058.5,-101 1058.5,-101 1058.5,-95 1064.5,-89 1070.5,-89 1070.5,-89 1190.5,-89 1190.5,-89 1196.5,-89 1202.5,-95 1202.5,-101 1202.5,-101 1202.5,-145 1202.5,-145 1202.5,-151 1196.5,-157 1190.5,-157\"/>\n",
       "<text text-anchor=\"middle\" x=\"1130.5\" y=\"-141.8\" font-family=\"Helvetica,sans-Serif\" font-size=\"14.00\">heart_disease &lt;= 0.5</text>\n",
       "<text text-anchor=\"middle\" x=\"1130.5\" y=\"-126.8\" font-family=\"Helvetica,sans-Serif\" font-size=\"14.00\">entropy = 0.664</text>\n",
       "<text text-anchor=\"middle\" x=\"1130.5\" y=\"-111.8\" font-family=\"Helvetica,sans-Serif\" font-size=\"14.00\">samples = 243</text>\n",
       "<text text-anchor=\"middle\" x=\"1130.5\" y=\"-96.8\" font-family=\"Helvetica,sans-Serif\" font-size=\"14.00\">value = [201, 42]</text>\n",
       "</g>\n",
       "<!-- 15&#45;&gt;19 -->\n",
       "<g id=\"edge19\" class=\"edge\">\n",
       "<title>15-&gt;19</title>\n",
       "<path fill=\"none\" stroke=\"black\" d=\"M1079.85,-192.88C1086.27,-184.15 1093.28,-174.62 1099.98,-165.51\"/>\n",
       "<polygon fill=\"black\" stroke=\"black\" points=\"1102.91,-167.43 1106.02,-157.3 1097.27,-163.28 1102.91,-167.43\"/>\n",
       "</g>\n",
       "<!-- 17 -->\n",
       "<g id=\"node18\" class=\"node\">\n",
       "<title>17</title>\n",
       "<path fill=\"#e78d4c\" stroke=\"black\" d=\"M900,-53C900,-53 807,-53 807,-53 801,-53 795,-47 795,-41 795,-41 795,-12 795,-12 795,-6 801,0 807,0 807,0 900,0 900,0 906,0 912,-6 912,-12 912,-12 912,-41 912,-41 912,-47 906,-53 900,-53\"/>\n",
       "<text text-anchor=\"middle\" x=\"853.5\" y=\"-37.8\" font-family=\"Helvetica,sans-Serif\" font-size=\"14.00\">entropy = 0.428</text>\n",
       "<text text-anchor=\"middle\" x=\"853.5\" y=\"-22.8\" font-family=\"Helvetica,sans-Serif\" font-size=\"14.00\">samples = 366</text>\n",
       "<text text-anchor=\"middle\" x=\"853.5\" y=\"-7.8\" font-family=\"Helvetica,sans-Serif\" font-size=\"14.00\">value = [334, 32]</text>\n",
       "</g>\n",
       "<!-- 16&#45;&gt;17 -->\n",
       "<g id=\"edge17\" class=\"edge\">\n",
       "<title>16-&gt;17</title>\n",
       "<path fill=\"none\" stroke=\"black\" d=\"M936.73,-88.95C923.72,-79.34 909.54,-68.87 896.63,-59.34\"/>\n",
       "<polygon fill=\"black\" stroke=\"black\" points=\"898.48,-56.36 888.36,-53.24 894.33,-61.99 898.48,-56.36\"/>\n",
       "</g>\n",
       "<!-- 18 -->\n",
       "<g id=\"node19\" class=\"node\">\n",
       "<title>18</title>\n",
       "<path fill=\"#e68743\" stroke=\"black\" d=\"M1035,-53C1035,-53 942,-53 942,-53 936,-53 930,-47 930,-41 930,-41 930,-12 930,-12 930,-6 936,0 942,0 942,0 1035,0 1035,0 1041,0 1047,-6 1047,-12 1047,-12 1047,-41 1047,-41 1047,-47 1041,-53 1035,-53\"/>\n",
       "<text text-anchor=\"middle\" x=\"988.5\" y=\"-37.8\" font-family=\"Helvetica,sans-Serif\" font-size=\"14.00\">entropy = 0.282</text>\n",
       "<text text-anchor=\"middle\" x=\"988.5\" y=\"-22.8\" font-family=\"Helvetica,sans-Serif\" font-size=\"14.00\">samples = 429</text>\n",
       "<text text-anchor=\"middle\" x=\"988.5\" y=\"-7.8\" font-family=\"Helvetica,sans-Serif\" font-size=\"14.00\">value = [408, 21]</text>\n",
       "</g>\n",
       "<!-- 16&#45;&gt;18 -->\n",
       "<g id=\"edge18\" class=\"edge\">\n",
       "<title>16-&gt;18</title>\n",
       "<path fill=\"none\" stroke=\"black\" d=\"M983.95,-88.95C984.56,-80.72 985.21,-71.85 985.83,-63.48\"/>\n",
       "<polygon fill=\"black\" stroke=\"black\" points=\"989.35,-63.47 986.59,-53.24 982.36,-62.95 989.35,-63.47\"/>\n",
       "</g>\n",
       "<!-- 20 -->\n",
       "<g id=\"node21\" class=\"node\">\n",
       "<title>20</title>\n",
       "<path fill=\"#e9965a\" stroke=\"black\" d=\"M1170,-53C1170,-53 1077,-53 1077,-53 1071,-53 1065,-47 1065,-41 1065,-41 1065,-12 1065,-12 1065,-6 1071,0 1077,0 1077,0 1170,0 1170,0 1176,0 1182,-6 1182,-12 1182,-12 1182,-41 1182,-41 1182,-47 1176,-53 1170,-53\"/>\n",
       "<text text-anchor=\"middle\" x=\"1123.5\" y=\"-37.8\" font-family=\"Helvetica,sans-Serif\" font-size=\"14.00\">entropy = 0.595</text>\n",
       "<text text-anchor=\"middle\" x=\"1123.5\" y=\"-22.8\" font-family=\"Helvetica,sans-Serif\" font-size=\"14.00\">samples = 194</text>\n",
       "<text text-anchor=\"middle\" x=\"1123.5\" y=\"-7.8\" font-family=\"Helvetica,sans-Serif\" font-size=\"14.00\">value = [166, 28]</text>\n",
       "</g>\n",
       "<!-- 19&#45;&gt;20 -->\n",
       "<g id=\"edge20\" class=\"edge\">\n",
       "<title>19-&gt;20</title>\n",
       "<path fill=\"none\" stroke=\"black\" d=\"M1128.05,-88.95C1127.44,-80.72 1126.79,-71.85 1126.17,-63.48\"/>\n",
       "<polygon fill=\"black\" stroke=\"black\" points=\"1129.64,-62.95 1125.41,-53.24 1122.65,-63.47 1129.64,-62.95\"/>\n",
       "</g>\n",
       "<!-- 21 -->\n",
       "<g id=\"node22\" class=\"node\">\n",
       "<title>21</title>\n",
       "<path fill=\"#efb388\" stroke=\"black\" d=\"M1299,-53C1299,-53 1212,-53 1212,-53 1206,-53 1200,-47 1200,-41 1200,-41 1200,-12 1200,-12 1200,-6 1206,0 1212,0 1212,0 1299,0 1299,0 1305,0 1311,-6 1311,-12 1311,-12 1311,-41 1311,-41 1311,-47 1305,-53 1299,-53\"/>\n",
       "<text text-anchor=\"middle\" x=\"1255.5\" y=\"-37.8\" font-family=\"Helvetica,sans-Serif\" font-size=\"14.00\">entropy = 0.863</text>\n",
       "<text text-anchor=\"middle\" x=\"1255.5\" y=\"-22.8\" font-family=\"Helvetica,sans-Serif\" font-size=\"14.00\">samples = 49</text>\n",
       "<text text-anchor=\"middle\" x=\"1255.5\" y=\"-7.8\" font-family=\"Helvetica,sans-Serif\" font-size=\"14.00\">value = [35, 14]</text>\n",
       "</g>\n",
       "<!-- 19&#45;&gt;21 -->\n",
       "<g id=\"edge21\" class=\"edge\">\n",
       "<title>19-&gt;21</title>\n",
       "<path fill=\"none\" stroke=\"black\" d=\"M1174.22,-88.95C1186.92,-79.34 1200.77,-68.87 1213.38,-59.34\"/>\n",
       "<polygon fill=\"black\" stroke=\"black\" points=\"1215.59,-62.06 1221.46,-53.24 1211.37,-56.48 1215.59,-62.06\"/>\n",
       "</g>\n",
       "<!-- 23 -->\n",
       "<g id=\"node24\" class=\"node\">\n",
       "<title>23</title>\n",
       "<path fill=\"#eca571\" stroke=\"black\" d=\"M1516,-157C1516,-157 1347,-157 1347,-157 1341,-157 1335,-151 1335,-145 1335,-145 1335,-101 1335,-101 1335,-95 1341,-89 1347,-89 1347,-89 1516,-89 1516,-89 1522,-89 1528,-95 1528,-101 1528,-101 1528,-145 1528,-145 1528,-151 1522,-157 1516,-157\"/>\n",
       "<text text-anchor=\"middle\" x=\"1431.5\" y=\"-141.8\" font-family=\"Helvetica,sans-Serif\" font-size=\"14.00\">avg_glucose_level &lt;= 103.64</text>\n",
       "<text text-anchor=\"middle\" x=\"1431.5\" y=\"-126.8\" font-family=\"Helvetica,sans-Serif\" font-size=\"14.00\">entropy = 0.76</text>\n",
       "<text text-anchor=\"middle\" x=\"1431.5\" y=\"-111.8\" font-family=\"Helvetica,sans-Serif\" font-size=\"14.00\">samples = 477</text>\n",
       "<text text-anchor=\"middle\" x=\"1431.5\" y=\"-96.8\" font-family=\"Helvetica,sans-Serif\" font-size=\"14.00\">value = [372, 105]</text>\n",
       "</g>\n",
       "<!-- 22&#45;&gt;23 -->\n",
       "<g id=\"edge23\" class=\"edge\">\n",
       "<title>22-&gt;23</title>\n",
       "<path fill=\"none\" stroke=\"black\" d=\"M1431.5,-192.88C1431.5,-184.78 1431.5,-175.98 1431.5,-167.47\"/>\n",
       "<polygon fill=\"black\" stroke=\"black\" points=\"1435,-167.3 1431.5,-157.3 1428,-167.3 1435,-167.3\"/>\n",
       "</g>\n",
       "<!-- 26 -->\n",
       "<g id=\"node27\" class=\"node\">\n",
       "<title>26</title>\n",
       "<path fill=\"#e78d4c\" stroke=\"black\" d=\"M1700,-157C1700,-157 1603,-157 1603,-157 1597,-157 1591,-151 1591,-145 1591,-145 1591,-101 1591,-101 1591,-95 1597,-89 1603,-89 1603,-89 1700,-89 1700,-89 1706,-89 1712,-95 1712,-101 1712,-101 1712,-145 1712,-145 1712,-151 1706,-157 1700,-157\"/>\n",
       "<text text-anchor=\"middle\" x=\"1651.5\" y=\"-141.8\" font-family=\"Helvetica,sans-Serif\" font-size=\"14.00\">work_type &lt;= 2.5</text>\n",
       "<text text-anchor=\"middle\" x=\"1651.5\" y=\"-126.8\" font-family=\"Helvetica,sans-Serif\" font-size=\"14.00\">entropy = 0.426</text>\n",
       "<text text-anchor=\"middle\" x=\"1651.5\" y=\"-111.8\" font-family=\"Helvetica,sans-Serif\" font-size=\"14.00\">samples = 69</text>\n",
       "<text text-anchor=\"middle\" x=\"1651.5\" y=\"-96.8\" font-family=\"Helvetica,sans-Serif\" font-size=\"14.00\">value = [63, 6]</text>\n",
       "</g>\n",
       "<!-- 22&#45;&gt;26 -->\n",
       "<g id=\"edge26\" class=\"edge\">\n",
       "<title>22-&gt;26</title>\n",
       "<path fill=\"none\" stroke=\"black\" d=\"M1493.07,-197.45C1520.6,-184.69 1553.19,-169.58 1581.63,-156.4\"/>\n",
       "<polygon fill=\"black\" stroke=\"black\" points=\"1583.1,-159.57 1590.7,-152.19 1580.16,-153.22 1583.1,-159.57\"/>\n",
       "</g>\n",
       "<!-- 24 -->\n",
       "<g id=\"node25\" class=\"node\">\n",
       "<title>24</title>\n",
       "<path fill=\"#eb9d65\" stroke=\"black\" d=\"M1434,-53C1434,-53 1341,-53 1341,-53 1335,-53 1329,-47 1329,-41 1329,-41 1329,-12 1329,-12 1329,-6 1335,0 1341,0 1341,0 1434,0 1434,0 1440,0 1446,-6 1446,-12 1446,-12 1446,-41 1446,-41 1446,-47 1440,-53 1434,-53\"/>\n",
       "<text text-anchor=\"middle\" x=\"1387.5\" y=\"-37.8\" font-family=\"Helvetica,sans-Serif\" font-size=\"14.00\">entropy = 0.685</text>\n",
       "<text text-anchor=\"middle\" x=\"1387.5\" y=\"-22.8\" font-family=\"Helvetica,sans-Serif\" font-size=\"14.00\">samples = 274</text>\n",
       "<text text-anchor=\"middle\" x=\"1387.5\" y=\"-7.8\" font-family=\"Helvetica,sans-Serif\" font-size=\"14.00\">value = [224, 50]</text>\n",
       "</g>\n",
       "<!-- 23&#45;&gt;24 -->\n",
       "<g id=\"edge24\" class=\"edge\">\n",
       "<title>23-&gt;24</title>\n",
       "<path fill=\"none\" stroke=\"black\" d=\"M1416.11,-88.95C1412.11,-80.35 1407.78,-71.06 1403.74,-62.37\"/>\n",
       "<polygon fill=\"black\" stroke=\"black\" points=\"1406.88,-60.82 1399.48,-53.24 1400.53,-63.78 1406.88,-60.82\"/>\n",
       "</g>\n",
       "<!-- 25 -->\n",
       "<g id=\"node26\" class=\"node\">\n",
       "<title>25</title>\n",
       "<path fill=\"#efb083\" stroke=\"black\" d=\"M1569,-53C1569,-53 1476,-53 1476,-53 1470,-53 1464,-47 1464,-41 1464,-41 1464,-12 1464,-12 1464,-6 1470,0 1476,0 1476,0 1569,0 1569,0 1575,0 1581,-6 1581,-12 1581,-12 1581,-41 1581,-41 1581,-47 1575,-53 1569,-53\"/>\n",
       "<text text-anchor=\"middle\" x=\"1522.5\" y=\"-37.8\" font-family=\"Helvetica,sans-Serif\" font-size=\"14.00\">entropy = 0.843</text>\n",
       "<text text-anchor=\"middle\" x=\"1522.5\" y=\"-22.8\" font-family=\"Helvetica,sans-Serif\" font-size=\"14.00\">samples = 203</text>\n",
       "<text text-anchor=\"middle\" x=\"1522.5\" y=\"-7.8\" font-family=\"Helvetica,sans-Serif\" font-size=\"14.00\">value = [148, 55]</text>\n",
       "</g>\n",
       "<!-- 23&#45;&gt;25 -->\n",
       "<g id=\"edge25\" class=\"edge\">\n",
       "<title>23-&gt;25</title>\n",
       "<path fill=\"none\" stroke=\"black\" d=\"M1463.33,-88.95C1472.14,-79.8 1481.7,-69.87 1490.52,-60.71\"/>\n",
       "<polygon fill=\"black\" stroke=\"black\" points=\"1493.3,-62.87 1497.72,-53.24 1488.26,-58.01 1493.3,-62.87\"/>\n",
       "</g>\n",
       "<!-- 27 -->\n",
       "<g id=\"node28\" class=\"node\">\n",
       "<title>27</title>\n",
       "<path fill=\"#ea975c\" stroke=\"black\" d=\"M1691.5,-53C1691.5,-53 1611.5,-53 1611.5,-53 1605.5,-53 1599.5,-47 1599.5,-41 1599.5,-41 1599.5,-12 1599.5,-12 1599.5,-6 1605.5,0 1611.5,0 1611.5,0 1691.5,0 1691.5,0 1697.5,0 1703.5,-6 1703.5,-12 1703.5,-12 1703.5,-41 1703.5,-41 1703.5,-47 1697.5,-53 1691.5,-53\"/>\n",
       "<text text-anchor=\"middle\" x=\"1651.5\" y=\"-37.8\" font-family=\"Helvetica,sans-Serif\" font-size=\"14.00\">entropy = 0.61</text>\n",
       "<text text-anchor=\"middle\" x=\"1651.5\" y=\"-22.8\" font-family=\"Helvetica,sans-Serif\" font-size=\"14.00\">samples = 40</text>\n",
       "<text text-anchor=\"middle\" x=\"1651.5\" y=\"-7.8\" font-family=\"Helvetica,sans-Serif\" font-size=\"14.00\">value = [34, 6]</text>\n",
       "</g>\n",
       "<!-- 26&#45;&gt;27 -->\n",
       "<g id=\"edge27\" class=\"edge\">\n",
       "<title>26-&gt;27</title>\n",
       "<path fill=\"none\" stroke=\"black\" d=\"M1651.5,-88.95C1651.5,-80.72 1651.5,-71.85 1651.5,-63.48\"/>\n",
       "<polygon fill=\"black\" stroke=\"black\" points=\"1655,-63.24 1651.5,-53.24 1648,-63.24 1655,-63.24\"/>\n",
       "</g>\n",
       "<!-- 28 -->\n",
       "<g id=\"node29\" class=\"node\">\n",
       "<title>28</title>\n",
       "<path fill=\"#e58139\" stroke=\"black\" d=\"M1811.5,-53C1811.5,-53 1733.5,-53 1733.5,-53 1727.5,-53 1721.5,-47 1721.5,-41 1721.5,-41 1721.5,-12 1721.5,-12 1721.5,-6 1727.5,0 1733.5,0 1733.5,0 1811.5,0 1811.5,0 1817.5,0 1823.5,-6 1823.5,-12 1823.5,-12 1823.5,-41 1823.5,-41 1823.5,-47 1817.5,-53 1811.5,-53\"/>\n",
       "<text text-anchor=\"middle\" x=\"1772.5\" y=\"-37.8\" font-family=\"Helvetica,sans-Serif\" font-size=\"14.00\">entropy = 0.0</text>\n",
       "<text text-anchor=\"middle\" x=\"1772.5\" y=\"-22.8\" font-family=\"Helvetica,sans-Serif\" font-size=\"14.00\">samples = 29</text>\n",
       "<text text-anchor=\"middle\" x=\"1772.5\" y=\"-7.8\" font-family=\"Helvetica,sans-Serif\" font-size=\"14.00\">value = [29, 0]</text>\n",
       "</g>\n",
       "<!-- 26&#45;&gt;28 -->\n",
       "<g id=\"edge28\" class=\"edge\">\n",
       "<title>26-&gt;28</title>\n",
       "<path fill=\"none\" stroke=\"black\" d=\"M1693.82,-88.95C1706,-79.43 1719.27,-69.07 1731.38,-59.62\"/>\n",
       "<polygon fill=\"black\" stroke=\"black\" points=\"1733.82,-62.15 1739.55,-53.24 1729.51,-56.63 1733.82,-62.15\"/>\n",
       "</g>\n",
       "</g>\n",
       "</svg>"
      ],
      "text/plain": [
       "<IPython.core.display.SVG object>"
      ]
     },
     "metadata": {},
     "output_type": "display_data"
    }
   ],
   "source": [
    "graph=Source(tree.export_graphviz(decision_tree,feature_names = x.columns,filled=True,rounded=True))\n",
    "display(SVG(graph.pipe(format='svg')))\n",
    "\n",
    "d=2.4\n",
    "c=0.8"
   ]
  },
  {
   "cell_type": "code",
   "execution_count": 14,
   "id": "ad4ba48b",
   "metadata": {},
   "outputs": [
    {
     "name": "stdout",
     "output_type": "stream",
     "text": [
      "[0 0 0 0 0 0 0 0 0 0 0 0 0 0 0 0 0 0 0 0 0 0 0 0 0 0 0 0 0 0 0 0 0 0 0 0 0\n",
      " 0 0 0 0 0 0 0 0 0 0 0 0 0 0 0 0 0 0 0 0 0 0 0 0 0 0 0 0 0 0 0 0 0 0 0 0 0\n",
      " 0 0 0 0 0 0 0 0 0 0 0 0 0 0 0 0 0 0 0 0 0 0 0 0 0 0 0 0 0 0 0 0 0 0 0 0 0\n",
      " 0 0 0 0 0 0 0 0 0 0 0 0 0 0 0 0 0]\n"
     ]
    }
   ],
   "source": [
    "#Random Forest\n",
    "from sklearn.ensemble import RandomForestClassifier\n",
    "RFClassifier= RandomForestClassifier(n_estimators=3,random_state=22, criterion=\"entropy\",max_depth=3)\n",
    "\n",
    "RFClassifier.fit(x_train,y_train)\n",
    "\n",
    "y_pred=RFClassifier.predict(x_test)\n",
    "\n",
    "print(y_pred)"
   ]
  },
  {
   "cell_type": "code",
   "execution_count": 15,
   "id": "b3234968",
   "metadata": {},
   "outputs": [
    {
     "name": "stderr",
     "output_type": "stream",
     "text": [
      "D:\\python\\lib\\site-packages\\sklearn\\base.py:450: UserWarning: X does not have valid feature names, but RandomForestClassifier was fitted with feature names\n",
      "  warnings.warn(\n"
     ]
    },
    {
     "data": {
      "text/plain": [
       "array([0], dtype=int64)"
      ]
     },
     "execution_count": 15,
     "metadata": {},
     "output_type": "execute_result"
    }
   ],
   "source": [
    "input=[[0,56,1,1,1,2,1,9,54,0]]\n",
    "RFClassifier.predict(input)"
   ]
  },
  {
   "cell_type": "code",
   "execution_count": 16,
   "id": "f8379a41",
   "metadata": {},
   "outputs": [
    {
     "name": "stdout",
     "output_type": "stream",
     "text": [
      "0.984375\n"
     ]
    }
   ],
   "source": [
    "from sklearn.metrics import accuracy_score\n",
    "\n",
    "print(accuracy_score(y_pred, y_test))"
   ]
  },
  {
   "cell_type": "markdown",
   "id": "424ace92",
   "metadata": {},
   "source": [
    "# Data Visualization"
   ]
  },
  {
   "cell_type": "code",
   "execution_count": 17,
   "id": "69d08135",
   "metadata": {},
   "outputs": [
    {
     "data": {
      "image/png": "[encoded data removed]",
      "text/plain": [
       "<Figure size 1440x1440 with 12 Axes>"
      ]
     },
     "metadata": {
      "needs_background": "light"
     },
     "output_type": "display_data"
    }
   ],
   "source": [
    "import matplotlib.colors as mcolors\n",
    "colors = list(mcolors.CSS4_COLORS.keys())[10:]\n",
    "def draw_histograms(dataframe, features, rows, cols):\n",
    "    fig=plt.figure(figsize=(20,20))\n",
    "    for i, feature in enumerate(features):\n",
    "        ax=fig.add_subplot(rows,cols,i+1)\n",
    "        dataframe[feature].hist(bins=20,ax=ax,facecolor=colors[i])\n",
    "        ax.set_title(feature+\" Histogram\",color=colors[35])\n",
    "        ax.set_yscale('log')\n",
    "    fig.tight_layout() \n",
    "    plt.savefig('Histograms1.png')\n",
    "    plt.show()\n",
    "draw_histograms(data,data.columns,8,4)"
   ]
  },
  {
   "cell_type": "code",
   "execution_count": 18,
   "id": "d5bc6d2f",
   "metadata": {},
   "outputs": [
    {
     "data": {
      "image/png": "[encoded data removed]",
      "text/plain": [
       "<Figure size 1440x720 with 2 Axes>"
      ]
     },
     "metadata": {
      "needs_background": "light"
     },
     "output_type": "display_data"
    }
   ],
   "source": [
    "import seaborn as sns\n",
    "plt.figure(figsize = (20,10))\n",
    "sns.heatmap(x.corr(), annot = True)\n",
    "plt.savefig('heatmap.png')\n",
    "plt.show()"
   ]
  },
  {
   "cell_type": "code",
   "execution_count": 19,
   "id": "a0082c80",
   "metadata": {},
   "outputs": [
    {
     "name": "stdout",
     "output_type": "stream",
     "text": [
      "4861\n",
      "249\n"
     ]
    }
   ],
   "source": [
    "ageno=data.loc[data['stroke']==0,\"age\"]\n",
    "print(len(ageno))\n",
    "ageyes=data.loc[data['stroke']==1,\"age\"]\n",
    "print(len(ageyes))"
   ]
  },
  {
   "cell_type": "code",
   "execution_count": 20,
   "id": "c5ffcbba",
   "metadata": {},
   "outputs": [],
   "source": [
    "bmiyes=data.loc[data['stroke']==1,\"bmi\"]                                          #bmi with stroke\n",
    "bmino=data.loc[data['stroke']==0,\"bmi\"]                                           #bmi without stroke\n",
    "gluyes=data.loc[data['stroke']==1,\"avg_glucose_level\"]                            #glucose level with stroke\n",
    "gluno=data.loc[data['stroke']==0,\"avg_glucose_level\"]                             #glucose level without stroke\n",
    "maleyes=data.loc[(data['stroke']==1)&(x[\"gender\"]==1)]                            #male with stroke\n",
    "maleno=data.loc[(data['stroke']==0)&(x[\"gender\"]==1)]                             #male without stroke\n",
    "femaleyes=data.loc[(data['stroke']==1)&(x[\"gender\"]==0)]                          #female with stroke\n",
    "femaleno=data.loc[(data['stroke']==0)&(x[\"gender\"]==0)]                           #female without stroke\n",
    "marriedyes=data.loc[(data['stroke']==1)&(x[\"ever_married\"]==1)]                   #married with stroke\n",
    "marriedno=data.loc[(data['stroke']==0)&(x[\"ever_married\"]==1)]                    #married without stroke\n",
    "unmarriedyes=data.loc[(data['stroke']==1)&(x[\"ever_married\"]==0)]                 #unmarried with stroke\n",
    "unmarriedno=data.loc[(data['stroke']==0)&(x[\"ever_married\"]==0)]                  #unmarried without stroke\n",
    "ruralyes=data.loc[(data['stroke']==1)&(x[\"Residence_type\"]==0)]                   #rural with stroke\n",
    "ruralno=data.loc[(data['stroke']==0)&(x[\"Residence_type\"]==0)]                    #rural without stroke\n",
    "urbanyes=data.loc[(data['stroke']==1)&(x[\"Residence_type\"]==1)]                   #urban with stroke\n",
    "urbanno=data.loc[(data['stroke']==0)&(x[\"Residence_type\"]==1)]                    #urban without stroke\n"
   ]
  },
  {
   "cell_type": "code",
   "execution_count": 21,
   "id": "56b1f2c5",
   "metadata": {},
   "outputs": [
    {
     "data": {
      "image/png": "[encoded data removed]",
      "text/plain": [
       "<Figure size 1440x576 with 1 Axes>"
      ]
     },
     "metadata": {
      "needs_background": "light"
     },
     "output_type": "display_data"
    }
   ],
   "source": [
    "from matplotlib.pyplot import figure\n",
    "x=[\"AGE\",\"BMI\",\"AVG_GLUCOSE_LEVEL\",\"Male\",\"Female\",\"Married\",\"Unmarried\",\"Rural\",\"Urban\"]\n",
    "yess=[len(ageyes),len(bmiyes),len(gluyes),len(maleyes),len(femaleyes),len(marriedyes),len(unmarriedyes),len(ruralyes),len(urbanyes)]\n",
    "noo=[len(ageno),len(bmino),len(gluno),len(maleno),len(femaleno),len(marriedno),len(unmarriedno),len(ruralno),len(urbanno)]\n",
    "\n",
    "w=0.4\n",
    "figure(figsize=(20,8))\n",
    "plt.bar(x,yess,w,label=\"YES\")\n",
    "plt.bar(x,noo,w,bottom=yess,label=\"NO\")\n",
    "plt.xlabel('features')\n",
    "plt.ylabel(\"No. of stroke\")\n",
    "plt.legend()\n",
    "plt.savefig(\"features.jpg\")"
   ]
  },
  {
   "cell_type": "code",
   "execution_count": 22,
   "id": "036c0816",
   "metadata": {},
   "outputs": [],
   "source": [
    "hy=data.loc[(data['stroke']==1)&(data[\"hypertension\"]==1)]        #with hypertension\n",
    "hn=data.loc[(data['stroke']==1)&(data[\"hypertension\"]==0)]        #without hypertension"
   ]
  },
  {
   "cell_type": "code",
   "execution_count": 23,
   "id": "dd913cbd",
   "metadata": {},
   "outputs": [
    {
     "data": {
      "image/png": "[encoded data removed]",
      "text/plain": [
       "<Figure size 432x288 with 1 Axes>"
      ]
     },
     "metadata": {},
     "output_type": "display_data"
    },
    {
     "data": {
      "text/plain": [
       "<Figure size 432x288 with 0 Axes>"
      ]
     },
     "metadata": {},
     "output_type": "display_data"
    }
   ],
   "source": [
    "dt=[len(hy),len(hn)]\n",
    "label=[\"hypertension\"]\n",
    "plt.pie(dt,autopct=\"%2d%%\")\n",
    "plt.legend(label,loc=\"best\")\n",
    "circle = plt.Circle( (0,0), 0.7, color='white')\n",
    "p=plt.gcf()\n",
    "p.gca().add_artist(circle)\n",
    "plt.show()\n",
    "plt.savefig(\"piechart1.jpg\")"
   ]
  },
  {
   "cell_type": "code",
   "execution_count": 31,
   "id": "ba02c01b",
   "metadata": {},
   "outputs": [],
   "source": [
    "# smoking data\n",
    "unknown=data.loc[(data['stroke']==1)&(x[\"smoking_status\"]==0)]           #unkown\n",
    "smkform=data.loc[(data['stroke']==1)&(x[\"smoking_status\"]==1)]       #formaly smokes\n",
    "smkno=data.loc[(data['stroke']==1)&(x[\"smoking_status\"]==2)]         #never smoked\n",
    "smk3=data.loc[(data['stroke']==1)&(x[\"smoking_status\"]==3)]          #smokes\n"
   ]
  },
  {
   "cell_type": "code",
   "execution_count": 32,
   "id": "520eae7d",
   "metadata": {},
   "outputs": [
    {
     "data": {
      "image/png": "[encoded data removed]",
      "text/plain": [
       "<Figure size 432x288 with 1 Axes>"
      ]
     },
     "metadata": {},
     "output_type": "display_data"
    }
   ],
   "source": [
    "dt=[len(smk3),len(smkform),len(smkno),len(unknown)]\n",
    "label=[\"smokes frequently\",\"smoke ocassionally\",\"never smoked\",\"Unknown\"]\n",
    "plt.pie(dt,autopct=\"%2d%%\")\n",
    "plt.legend(label,loc='upper right')\n",
    "plt.title(\"Affect of smoking\")\n",
    "plt.savefig(\"piechart2.png\")"
   ]
  },
  {
   "cell_type": "markdown",
   "id": "59f15ef4",
   "metadata": {},
   "source": [
    "# Finalizing the Model and saving it"
   ]
  },
  {
   "cell_type": "code",
   "execution_count": 33,
   "id": "e8e1b8cf",
   "metadata": {},
   "outputs": [
    {
     "name": "stdout",
     "output_type": "stream",
     "text": [
      "[0 0 0 0 0 0 0 0 0 0 0 0 0 0 0 0 0 0 0 0 0 0 0 0 0 0 0 0 0 0 0 0 0 0 0 0 0\n",
      " 0 0 0 0 0 0 0 0 0 0 0 0 0 0 0 0 0 0 0 0 0 0 0 0 0 0 0 0 0 0 0 0 0 0 0 0 0\n",
      " 0 0 0 0 0 0 0 0 0 0 0 0 0 0 0 0 0 0 0 0 0 0 0 0 0 0 0 0 0 0 0 0 0 0 0 0 0\n",
      " 0 0 0 0 0 0 0 0 0 0 0 0 0 0 0 0 0]\n"
     ]
    }
   ],
   "source": [
    "#final model\n",
    "from sklearn.ensemble import RandomForestClassifier\n",
    "model= RandomForestClassifier(n_estimators=3,random_state=22, criterion=\"entropy\",max_depth=3)\n",
    "\n",
    "model.fit(x_train,y_train)\n",
    "\n",
    "y_pred=model.predict(x_test)\n",
    "\n",
    "print(y_pred)"
   ]
  },
  {
   "cell_type": "code",
   "execution_count": 34,
   "id": "2c87d2fb",
   "metadata": {},
   "outputs": [
    {
     "data": {
      "text/plain": [
       "0.984375"
      ]
     },
     "execution_count": 34,
     "metadata": {},
     "output_type": "execute_result"
    }
   ],
   "source": [
    "model.score(x_test,y_test)"
   ]
  },
  {
   "cell_type": "code",
   "execution_count": 35,
   "id": "6fa68a80",
   "metadata": {},
   "outputs": [],
   "source": [
    "#Saving the model\n",
    "import pickle\n",
    "with open('model_pickle.pk1','wb') as file:\n",
    "    pickle.dump(model,file)"
   ]
  },
  {
   "cell_type": "markdown",
   "id": "3b2ad7ce",
   "metadata": {},
   "source": [
    "### Thank You & presented by:-\n",
    "\n",
    "# Riya Dubey\n",
    "# Rashmi Gourh\n",
    "# Parmeet Kaur\n",
    "# Mohd Rameez Ansari\n",
    "\n",
    "## :-) We rest our case...\n"
   ]
  },
  {
   "cell_type": "code",
   "execution_count": null,
   "id": "956b1cdd",
   "metadata": {},
   "outputs": [],
   "source": []
  }
 ],
 "metadata": {
  "kernelspec": {
   "display_name": "Python 3 (ipykernel)",
   "language": "python",
   "name": "python3"
  },
  "language_info": {
   "codemirror_mode": {
    "name": "ipython",
    "version": 3
   },
   "file_extension": ".py",
   "mimetype": "text/x-python",
   "name": "python",
   "nbconvert_exporter": "python",
   "pygments_lexer": "ipython3",
   "version": "3.9.12"
  }
 },
 "nbformat": 4,
 "nbformat_minor": 5
}
